{
 "cells": [
  {
   "cell_type": "markdown",
   "metadata": {},
   "source": [
    "# Explainer notebook\n",
    "This notebook answers the following questions related to our final assignment in **Social data analysis and visualization (02806)** Spring 2024.\n",
    "\n",
    "The website with our visualizations and accompanying text can be found on [Medium]()    \n",
    "\n",
    "The website for the first part of this assignment can be found here : [Project Assignment A](https://clbokea.github.io/)"
   ]
  },
  {
   "cell_type": "markdown",
   "metadata": {},
   "source": [
    "## Table of Contents\n",
    "* Motivation\n",
    "    * What is your dataset?\n",
    "    * Why did you choose this/these particular dataset(s)?\n",
    "    * What was your goal for the end user's experience?\n",
    "* Basic stats\n",
    "    * Write about your choices in data cleaning and preprocessing\n",
    "    * Write a short section that discusses the dataset stats, containing key points/plots from your exploratory data analysis.\n",
    "* Data Analysis\n",
    "    * Describe your data analysis and explain what you've learned about the dataset.\n",
    "    * If relevant, talk about your machine-learning.\n",
    "    * Genre. Which genre of data story did you use?\n",
    "    * Which tools did you use from each of the 3 categories of Visual Narrative (Figure 7 in Segal and Heer). Why?\n",
    "    * Which tools did you use from each of the 3 categories of Narrative Structure (Figure 7 in Segal and Heer). Why?\n",
    "* Visualizations.\n",
    "    * Explain the visualizations you've chosen.\n",
    "    * Why are they right for the story you want to tell?\n",
    "* Discussion. \n",
    "    * What went well?,\n",
    "    * What is still missing? What could be improved?, Why?\n",
    "* Contributions. "
   ]
  },
  {
   "cell_type": "code",
   "execution_count": 24,
   "metadata": {},
   "outputs": [
    {
     "name": "stdout",
     "output_type": "stream",
     "text": [
      "Setup complete!\n"
     ]
    }
   ],
   "source": [
    "# Setup of notebook\n",
    "import os\n",
    "import json\n",
    "import numpy as np \n",
    "import pandas as pd\n",
    "print('Setup complete!')"
   ]
  },
  {
   "cell_type": "markdown",
   "metadata": {},
   "source": [
    "## Motivation"
   ]
  },
  {
   "cell_type": "markdown",
   "metadata": {},
   "source": [
    "### What is your dataset?"
   ]
  },
  {
   "cell_type": "markdown",
   "metadata": {},
   "source": [
    "Our dataset consists of data collected from a Garmin watch worn on the wrist for the past three years. Additionally, we have correlated the quantitative data from the Garmin with qualitative data extracted from a personal diary. The Garmin dataset is derived from the following files."
   ]
  },
  {
   "cell_type": "code",
   "execution_count": 18,
   "metadata": {},
   "outputs": [],
   "source": [
    "garmin_base_dir = \"../files/Garmin_20241403\"\n",
    "#%ls -R {garmin_base_dir} "
   ]
  },
  {
   "cell_type": "markdown",
   "metadata": {},
   "source": [
    "Our main focus have been on these json files: "
   ]
  },
  {
   "cell_type": "code",
   "execution_count": 19,
   "metadata": {},
   "outputs": [],
   "source": [
    "folder = os.path.join(garmin_base_dir, \"DI_CONNECT\", \"DI-Connect-Aggregator\")"
   ]
  },
  {
   "cell_type": "code",
   "execution_count": 20,
   "metadata": {},
   "outputs": [
    {
     "data": {
      "text/plain": [
       "['HydrationLogFile_2021-03-10_2021-06-18.json',\n",
       " 'UDSFile_2012-09-14_2012-12-23.json',\n",
       " 'UDSFile_2011-05-03_2011-08-11.json',\n",
       " 'UDSFile_2011-08-11_2011-11-19.json',\n",
       " 'HydrationLogFile_2021-09-26_2022-01-04.json',\n",
       " 'UDSFile_2022-07-24_2022-11-01.json',\n",
       " 'HydrationLogFile_2022-01-04_2022-04-14.json',\n",
       " 'HydrationLogFile_2021-06-18_2021-09-26.json',\n",
       " 'HydrationLogFile_2023-08-27_2023-12-05.json',\n",
       " 'UDSFile_2022-11-01_2023-02-09.json',\n",
       " 'UDSFile_2023-08-28_2023-12-06.json',\n",
       " 'HydrationLogFile_2020-08-22_2020-11-30.json',\n",
       " 'HydrationLogFile_2020-05-14_2020-08-22.json',\n",
       " 'HydrationLogFile_2022-04-14_2022-07-23.json',\n",
       " 'UDSFile_2005-11-10_2006-02-18.json',\n",
       " 'HydrationLogFile_2023-05-19_2023-08-27.json',\n",
       " 'UDSFile_2014-08-15_2014-11-23.json',\n",
       " 'UDSFile_2014-01-27_2014-05-07.json',\n",
       " 'HydrationLogFile_2023-02-08_2023-05-19.json',\n",
       " 'HydrationLogFile_2022-07-23_2022-10-31.json',\n",
       " 'UDSFile_2021-09-27_2022-01-05.json',\n",
       " 'UDSFile_2013-07-11_2013-10-19.json',\n",
       " 'UDSFile_2022-01-05_2022-04-15.json',\n",
       " 'HydrationLogFile_2022-10-31_2023-02-08.json',\n",
       " 'HydrationLogFile_2020-11-30_2021-03-10.json',\n",
       " 'HydrationLogFile_2023-12-05_2024-03-14.json',\n",
       " 'UDSFile_2021-03-11_2021-06-19.json',\n",
       " 'UDSFile_2022-04-15_2022-07-24.json',\n",
       " 'UDSFile_2023-12-06_2024-03-15.json',\n",
       " 'UDSFile_2020-05-15_2020-08-23.json',\n",
       " 'UDSFile_2023-05-20_2023-08-28.json',\n",
       " 'UDSFile_2021-06-19_2021-09-27.json',\n",
       " 'UDSFile_2014-05-07_2014-08-15.json',\n",
       " 'UDSFile_2020-12-01_2021-03-11.json',\n",
       " 'UDSFile_2023-02-09_2023-05-20.json',\n",
       " 'UDSFile_2020-08-23_2020-12-01.json']"
      ]
     },
     "execution_count": 20,
     "metadata": {},
     "output_type": "execute_result"
    }
   ],
   "source": [
    "os.listdir(folder)"
   ]
  },
  {
   "cell_type": "markdown",
   "metadata": {},
   "source": [
    "We have then read the content from all files and put them into one DataFrame"
   ]
  },
  {
   "cell_type": "code",
   "execution_count": 25,
   "metadata": {},
   "outputs": [
    {
     "data": {
      "text/html": [
       "<div>\n",
       "<style scoped>\n",
       "    .dataframe tbody tr th:only-of-type {\n",
       "        vertical-align: middle;\n",
       "    }\n",
       "\n",
       "    .dataframe tbody tr th {\n",
       "        vertical-align: top;\n",
       "    }\n",
       "\n",
       "    .dataframe thead th {\n",
       "        text-align: right;\n",
       "    }\n",
       "</style>\n",
       "<table border=\"1\" class=\"dataframe\">\n",
       "  <thead>\n",
       "    <tr style=\"text-align: right;\">\n",
       "      <th></th>\n",
       "      <th>calendarDate</th>\n",
       "      <th>totalKilocalories</th>\n",
       "      <th>activeKilocalories</th>\n",
       "      <th>restingCaloriesFromActivity</th>\n",
       "      <th>totalSteps</th>\n",
       "      <th>moderateIntensityMinutes</th>\n",
       "      <th>vigorousIntensityMinutes</th>\n",
       "      <th>userIntensityMinutesGoal</th>\n",
       "      <th>minHeartRate</th>\n",
       "      <th>maxHeartRate</th>\n",
       "      <th>restingHeartRate</th>\n",
       "      <th>minAvgHeartRate</th>\n",
       "      <th>maxAvgHeartRate</th>\n",
       "      <th>allDayStress</th>\n",
       "      <th>bodyBattery</th>\n",
       "    </tr>\n",
       "  </thead>\n",
       "  <tbody>\n",
       "    <tr>\n",
       "      <th>14</th>\n",
       "      <td>2020-06-18</td>\n",
       "      <td>1923.0</td>\n",
       "      <td>446.0</td>\n",
       "      <td>NaN</td>\n",
       "      <td>13987.0</td>\n",
       "      <td>11.0</td>\n",
       "      <td>0.0</td>\n",
       "      <td>180.0</td>\n",
       "      <td>64.0</td>\n",
       "      <td>128.0</td>\n",
       "      <td>68.0</td>\n",
       "      <td>65.0</td>\n",
       "      <td>121.0</td>\n",
       "      <td>{'userProfilePK': 86607424, 'calendarDate': '2...</td>\n",
       "      <td>{'userProfilePK': 86607424, 'calendarDate': '2...</td>\n",
       "    </tr>\n",
       "    <tr>\n",
       "      <th>15</th>\n",
       "      <td>2020-06-19</td>\n",
       "      <td>1885.0</td>\n",
       "      <td>408.0</td>\n",
       "      <td>NaN</td>\n",
       "      <td>12455.0</td>\n",
       "      <td>2.0</td>\n",
       "      <td>10.0</td>\n",
       "      <td>180.0</td>\n",
       "      <td>55.0</td>\n",
       "      <td>160.0</td>\n",
       "      <td>64.0</td>\n",
       "      <td>56.0</td>\n",
       "      <td>158.0</td>\n",
       "      <td>{'userProfilePK': 86607424, 'calendarDate': '2...</td>\n",
       "      <td>{'userProfilePK': 86607424, 'calendarDate': '2...</td>\n",
       "    </tr>\n",
       "    <tr>\n",
       "      <th>16</th>\n",
       "      <td>2020-06-20</td>\n",
       "      <td>2456.0</td>\n",
       "      <td>975.0</td>\n",
       "      <td>NaN</td>\n",
       "      <td>26379.0</td>\n",
       "      <td>20.0</td>\n",
       "      <td>88.0</td>\n",
       "      <td>180.0</td>\n",
       "      <td>53.0</td>\n",
       "      <td>159.0</td>\n",
       "      <td>62.0</td>\n",
       "      <td>54.0</td>\n",
       "      <td>156.0</td>\n",
       "      <td>{'userProfilePK': 86607424, 'calendarDate': '2...</td>\n",
       "      <td>{'userProfilePK': 86607424, 'calendarDate': '2...</td>\n",
       "    </tr>\n",
       "    <tr>\n",
       "      <th>17</th>\n",
       "      <td>2020-06-21</td>\n",
       "      <td>2202.0</td>\n",
       "      <td>734.0</td>\n",
       "      <td>NaN</td>\n",
       "      <td>12401.0</td>\n",
       "      <td>52.0</td>\n",
       "      <td>4.0</td>\n",
       "      <td>180.0</td>\n",
       "      <td>50.0</td>\n",
       "      <td>139.0</td>\n",
       "      <td>60.0</td>\n",
       "      <td>52.0</td>\n",
       "      <td>134.0</td>\n",
       "      <td>{'userProfilePK': 86607424, 'calendarDate': '2...</td>\n",
       "      <td>{'userProfilePK': 86607424, 'calendarDate': '2...</td>\n",
       "    </tr>\n",
       "    <tr>\n",
       "      <th>18</th>\n",
       "      <td>2020-06-22</td>\n",
       "      <td>2017.0</td>\n",
       "      <td>549.0</td>\n",
       "      <td>NaN</td>\n",
       "      <td>15256.0</td>\n",
       "      <td>5.0</td>\n",
       "      <td>43.0</td>\n",
       "      <td>180.0</td>\n",
       "      <td>53.0</td>\n",
       "      <td>152.0</td>\n",
       "      <td>60.0</td>\n",
       "      <td>54.0</td>\n",
       "      <td>149.0</td>\n",
       "      <td>{'userProfilePK': 86607424, 'calendarDate': '2...</td>\n",
       "      <td>{'userProfilePK': 86607424, 'calendarDate': '2...</td>\n",
       "    </tr>\n",
       "  </tbody>\n",
       "</table>\n",
       "</div>"
      ],
      "text/plain": [
       "   calendarDate  totalKilocalories  activeKilocalories  \\\n",
       "14   2020-06-18             1923.0               446.0   \n",
       "15   2020-06-19             1885.0               408.0   \n",
       "16   2020-06-20             2456.0               975.0   \n",
       "17   2020-06-21             2202.0               734.0   \n",
       "18   2020-06-22             2017.0               549.0   \n",
       "\n",
       "    restingCaloriesFromActivity  totalSteps  moderateIntensityMinutes  \\\n",
       "14                          NaN     13987.0                      11.0   \n",
       "15                          NaN     12455.0                       2.0   \n",
       "16                          NaN     26379.0                      20.0   \n",
       "17                          NaN     12401.0                      52.0   \n",
       "18                          NaN     15256.0                       5.0   \n",
       "\n",
       "    vigorousIntensityMinutes  userIntensityMinutesGoal  minHeartRate  \\\n",
       "14                       0.0                     180.0          64.0   \n",
       "15                      10.0                     180.0          55.0   \n",
       "16                      88.0                     180.0          53.0   \n",
       "17                       4.0                     180.0          50.0   \n",
       "18                      43.0                     180.0          53.0   \n",
       "\n",
       "    maxHeartRate  restingHeartRate  minAvgHeartRate  maxAvgHeartRate  \\\n",
       "14         128.0              68.0             65.0            121.0   \n",
       "15         160.0              64.0             56.0            158.0   \n",
       "16         159.0              62.0             54.0            156.0   \n",
       "17         139.0              60.0             52.0            134.0   \n",
       "18         152.0              60.0             54.0            149.0   \n",
       "\n",
       "                                         allDayStress  \\\n",
       "14  {'userProfilePK': 86607424, 'calendarDate': '2...   \n",
       "15  {'userProfilePK': 86607424, 'calendarDate': '2...   \n",
       "16  {'userProfilePK': 86607424, 'calendarDate': '2...   \n",
       "17  {'userProfilePK': 86607424, 'calendarDate': '2...   \n",
       "18  {'userProfilePK': 86607424, 'calendarDate': '2...   \n",
       "\n",
       "                                          bodyBattery  \n",
       "14  {'userProfilePK': 86607424, 'calendarDate': '2...  \n",
       "15  {'userProfilePK': 86607424, 'calendarDate': '2...  \n",
       "16  {'userProfilePK': 86607424, 'calendarDate': '2...  \n",
       "17  {'userProfilePK': 86607424, 'calendarDate': '2...  \n",
       "18  {'userProfilePK': 86607424, 'calendarDate': '2...  "
      ]
     },
     "execution_count": 25,
     "metadata": {},
     "output_type": "execute_result"
    }
   ],
   "source": [
    "# Setting up paths and configurations\n",
    "garmin_base_dir = \"../files/Garmin_20241403\"\n",
    "di_connect_path = os.path.join(garmin_base_dir, \"DI_CONNECT\", \"DI-Connect-Aggregator\")\n",
    "columns_of_interest = ['calendarDate', 'totalKilocalories', 'activeKilocalories', 'restingCaloriesFromActivity', \n",
    "                       'totalSteps', 'moderateIntensityMinutes', 'vigorousIntensityMinutes', 'userIntensityMinutesGoal', \n",
    "                       'minHeartRate', 'maxHeartRate', 'restingHeartRate', 'minAvgHeartRate', 'maxAvgHeartRate',\n",
    "                       'allDayStress', 'bodyBattery']\n",
    "\n",
    "# Function to load JSONs and combine them into a filtered DataFrame\n",
    "def load_and_filter_json(path, start_year=2020):\n",
    "    all_dfs = []\n",
    "    for root, _, files in os.walk(path):\n",
    "        json_files = [f for f in sorted(files) if f.startswith('UDS') and f.endswith('.json')]\n",
    "        for file in json_files:\n",
    "            with open(os.path.join(root, file), 'r') as f:\n",
    "                data = json.load(f)\n",
    "            df = pd.DataFrame(data) if isinstance(data, list) else pd.DataFrame([data])\n",
    "            all_dfs.append(df)\n",
    "\n",
    "    # Combining and filtering the data\n",
    "    if all_dfs:\n",
    "        full_df = pd.concat(all_dfs, ignore_index=True)\n",
    "        full_df['calendarDate'] = pd.to_datetime(full_df['calendarDate'])\n",
    "        filtered_df = full_df.loc[full_df['calendarDate'].dt.year >= start_year, columns_of_interest]\n",
    "        return filtered_df\n",
    "    return pd.DataFrame()  # Return empty DataFrame if no data was loaded\n",
    "\n",
    "# Apply the function and display the resulting DataFrame\n",
    "focus_df = load_and_filter_json(di_connect_path)\n",
    "focus_df.head()"
   ]
  },
  {
   "cell_type": "markdown",
   "metadata": {},
   "source": [
    "### Why did you choose this/these particular dataset(s)?"
   ]
  },
  {
   "cell_type": "markdown",
   "metadata": {},
   "source": [
    "Our primary objective has been to craft an article for publication on \"Medium\" that delves into the insights obtainable from one's personal Garmin Data. Accordingly, our narrative centers around a personal story rather than a broad analysis applicable to humanity at large. This means we opted not to examine datasets from a wide array of individuals but focused exclusively on the detailed tracking data of one specific person. In essence, our aim was not to extrapolate general conclusions about health data from a large population, but rather to explore a distinctly personal perspective.\n"
   ]
  },
  {
   "cell_type": "markdown",
   "metadata": {},
   "source": [
    "### What was your goal for the end user's experience?"
   ]
  },
  {
   "cell_type": "markdown",
   "metadata": {},
   "source": [
    "\n",
    "Your primary objective has been to inspire readers of our article to explore their personal data in ways that might not be immediately apparent to everyone. We have opted for a narrative that emphasizes personal stories to infuse the article with energy, inspiration, and creativity, adopting an approach that leans more towards the artistic than the strictly scientific. Our hope is that this approach will resonate with readers in a way that encourages them to delve deeper into their own data."
   ]
  },
  {
   "cell_type": "markdown",
   "metadata": {},
   "source": [
    "## Basic stats."
   ]
  },
  {
   "cell_type": "markdown",
   "metadata": {},
   "source": [
    "### Write about your choices in data cleaning and preprocessing\n",
    "We have already written a bit about what data in which files we have choosen to work with, but identifying these files where done by looping through all files creating a Dataframe containing the content of each file, and then printing out the the first 5 rows of the dataset. Most of the files turned out not to contain, in this context, any relevant data, but the files in the \"DI-Connect-Aggregator\" contained daily health data, and the \"DI-Connect-Wellness\" contained sleep data. Thise data have been the ones of our interest.\n",
    "\n",
    "We ended up with 22 json files from the \"DI-Connect-Aggregator\" folder where we concatenated all data from these files into a single dataframe. All data from before 2020 where removed, since there where no watch on the wrist before that.\n",
    "\n",
    "In the dataframe 2 collumns (aggregatorList and bodyBatteryStatList) contained dictionaries with key value pairs of data. To give ourself a more dirrect approach to work with these data we changed it / extracted it into a dataframe cell in the parrent dataframe."
   ]
  },
  {
   "cell_type": "raw",
   "metadata": {
    "vscode": {
     "languageId": "raw"
    }
   },
   "source": [
    "focus_df[['allDayStress']].iat[0,0]['aggregatorList']\n",
    "focus_df[['bodyBattery']].iat[0,0]['bodyBatteryStatList']"
   ]
  },
  {
   "cell_type": "markdown",
   "metadata": {},
   "source": [
    "### Write a short section that discusses the dataset stats, containing key points/plots from your exploratory data analysis."
   ]
  },
  {
   "cell_type": "markdown",
   "metadata": {},
   "source": [
    "## Data Analysis\n",
    "* Describe your data analysis and explain what you've learned about the dataset.\n",
    "* If relevant, talk about your machine-learning.\n",
    "* Genre. Which genre of data story did you use?\n",
    "* Which tools did you use from each of the 3 categories of Visual Narrative (Figure 7 in Segal and Heer). Why?\n",
    "* Which tools did you use from each of the 3 categories of Narrative Structure (Figure 7 in Segal and Heer). Why?"
   ]
  },
  {
   "cell_type": "markdown",
   "metadata": {},
   "source": [
    "## Visualizations.\n",
    "* Explain the visualizations you've chosen.\n",
    "* Why are they right for the story you want to tell?"
   ]
  },
  {
   "cell_type": "markdown",
   "metadata": {},
   "source": [
    "## Discussion. \n",
    "Think critically about your creation\n",
    "* What went well?,\n",
    "* What is still missing? What could be improved?, Why?"
   ]
  },
  {
   "cell_type": "markdown",
   "metadata": {},
   "source": [
    "## Contributions. \n",
    "Who did what?\n",
    "* You should write (just briefly) which group member was the main responsible for which elements of the assignment. (I want you guys to understand every part of the assignment, but usually there is someone who took lead role on certain portions of the work. That's what you should explain).\n",
    "* It is not OK simply to write \"All group members contributed equally\"."
   ]
  },
  {
   "cell_type": "markdown",
   "metadata": {},
   "source": [
    "## Make sure that you use references when they're needed and follow academic standards.\n",
    "Handing in the assignment: Simply upload the link to your website via DTU Learn."
   ]
  },
  {
   "cell_type": "markdown",
   "metadata": {},
   "source": [
    "\n",
    "\n",
    ".\n",
    "\n",
    "\n",
    "\n",
    "\n",
    "\n",
    "\n",
    "\n",
    "\n",
    "\n"
   ]
  }
 ],
 "metadata": {
  "kernelspec": {
   "display_name": ".venv",
   "language": "python",
   "name": "python3"
  },
  "language_info": {
   "codemirror_mode": {
    "name": "ipython",
    "version": 3
   },
   "file_extension": ".py",
   "mimetype": "text/x-python",
   "name": "python",
   "nbconvert_exporter": "python",
   "pygments_lexer": "ipython3",
   "version": "3.12.3"
  }
 },
 "nbformat": 4,
 "nbformat_minor": 2
}
