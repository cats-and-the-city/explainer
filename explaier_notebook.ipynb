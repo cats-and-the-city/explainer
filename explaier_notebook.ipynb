{
 "cells": [
  {
   "cell_type": "markdown",
   "metadata": {},
   "source": [
    "# Explainer notebook\n",
    "This notebook answers the following questions related to our final assignment in **Social data analysis and visualization (02806)** Spring 2024.\n",
    "\n",
    "The website with our visualizations and accompanying text can be found on [Medium]()    \n",
    "\n",
    "The website for the first part of this assignment can be found here : [Project Assignment A](https://clbokea.github.io/)"
   ]
  },
  {
   "cell_type": "markdown",
   "metadata": {},
   "source": [
    "## Table of Contents\n",
    "* Motivation\n",
    "    * What is your dataset?\n",
    "    * Why did you choose this/these particular dataset(s)?\n",
    "    * What was your goal for the end user's experience?\n",
    "* Basic stats\n",
    "    * Write about your choices in data cleaning and preprocessing\n",
    "    * Write a short section that discusses the dataset stats, containing key points/plots from your exploratory data analysis.\n",
    "* Data Analysis\n",
    "    * Describe your data analysis and explain what you've learned about the dataset.\n",
    "    * If relevant, talk about your machine-learning.\n",
    "    * Genre. Which genre of data story did you use?\n",
    "    * Which tools did you use from each of the 3 categories of Visual Narrative (Figure 7 in Segal and Heer). Why?\n",
    "    * Which tools did you use from each of the 3 categories of Narrative Structure (Figure 7 in Segal and Heer). Why?\n",
    "* Visualizations.\n",
    "    * Explain the visualizations you've chosen.\n",
    "    * Why are they right for the story you want to tell?\n",
    "* Discussion. \n",
    "    * What went well?,\n",
    "    * What is still missing? What could be improved?, Why?\n",
    "* Contributions. "
   ]
  },
  {
   "cell_type": "code",
   "execution_count": 24,
   "metadata": {},
   "outputs": [
    {
     "name": "stdout",
     "output_type": "stream",
     "text": [
      "Setup complete!\n"
     ]
    }
   ],
   "source": [
    "# Setup of notebook\n",
    "import os\n",
    "import json\n",
    "import numpy as np \n",
    "import pandas as pd\n",
    "print('Setup complete!')"
   ]
  },
  {
   "cell_type": "markdown",
   "metadata": {},
   "source": [
    "## Motivation"
   ]
  },
  {
   "cell_type": "markdown",
   "metadata": {},
   "source": [
    "### What is your dataset?"
   ]
  },
  {
   "cell_type": "markdown",
   "metadata": {},
   "source": [
    "Our dataset consists of data collected from a Garmin watch worn on the wrist for the past three years. Additionally, we have correlated the quantitative data from the Garmin with qualitative data extracted from a personal diary. The Garmin dataset is derived from the following files."
   ]
  },
  {
   "cell_type": "code",
   "execution_count": 18,
   "metadata": {},
   "outputs": [],
   "source": [
    "garmin_base_dir = \"../files/Garmin_20241403\"\n",
    "#%ls -R {garmin_base_dir} "
   ]
  },
  {
   "cell_type": "markdown",
   "metadata": {},
   "source": [
    "Our main focus have been on these json files: "
   ]
  },
  {
   "cell_type": "code",
   "execution_count": 19,
   "metadata": {},
   "outputs": [],
   "source": [
    "folder = os.path.join(garmin_base_dir, \"DI_CONNECT\", \"DI-Connect-Aggregator\")"
   ]
  },
  {
   "cell_type": "code",
   "execution_count": 20,
   "metadata": {},
   "outputs": [
    {
     "data": {
      "text/plain": [
       "['HydrationLogFile_2021-03-10_2021-06-18.json',\n",
       " 'UDSFile_2012-09-14_2012-12-23.json',\n",
       " 'UDSFile_2011-05-03_2011-08-11.json',\n",
       " 'UDSFile_2011-08-11_2011-11-19.json',\n",
       " 'HydrationLogFile_2021-09-26_2022-01-04.json',\n",
       " 'UDSFile_2022-07-24_2022-11-01.json',\n",
       " 'HydrationLogFile_2022-01-04_2022-04-14.json',\n",
       " 'HydrationLogFile_2021-06-18_2021-09-26.json',\n",
       " 'HydrationLogFile_2023-08-27_2023-12-05.json',\n",
       " 'UDSFile_2022-11-01_2023-02-09.json',\n",
       " 'UDSFile_2023-08-28_2023-12-06.json',\n",
       " 'HydrationLogFile_2020-08-22_2020-11-30.json',\n",
       " 'HydrationLogFile_2020-05-14_2020-08-22.json',\n",
       " 'HydrationLogFile_2022-04-14_2022-07-23.json',\n",
       " 'UDSFile_2005-11-10_2006-02-18.json',\n",
       " 'HydrationLogFile_2023-05-19_2023-08-27.json',\n",
       " 'UDSFile_2014-08-15_2014-11-23.json',\n",
       " 'UDSFile_2014-01-27_2014-05-07.json',\n",
       " 'HydrationLogFile_2023-02-08_2023-05-19.json',\n",
       " 'HydrationLogFile_2022-07-23_2022-10-31.json',\n",
       " 'UDSFile_2021-09-27_2022-01-05.json',\n",
       " 'UDSFile_2013-07-11_2013-10-19.json',\n",
       " 'UDSFile_2022-01-05_2022-04-15.json',\n",
       " 'HydrationLogFile_2022-10-31_2023-02-08.json',\n",
       " 'HydrationLogFile_2020-11-30_2021-03-10.json',\n",
       " 'HydrationLogFile_2023-12-05_2024-03-14.json',\n",
       " 'UDSFile_2021-03-11_2021-06-19.json',\n",
       " 'UDSFile_2022-04-15_2022-07-24.json',\n",
       " 'UDSFile_2023-12-06_2024-03-15.json',\n",
       " 'UDSFile_2020-05-15_2020-08-23.json',\n",
       " 'UDSFile_2023-05-20_2023-08-28.json',\n",
       " 'UDSFile_2021-06-19_2021-09-27.json',\n",
       " 'UDSFile_2014-05-07_2014-08-15.json',\n",
       " 'UDSFile_2020-12-01_2021-03-11.json',\n",
       " 'UDSFile_2023-02-09_2023-05-20.json',\n",
       " 'UDSFile_2020-08-23_2020-12-01.json']"
      ]
     },
     "execution_count": 20,
     "metadata": {},
     "output_type": "execute_result"
    }
   ],
   "source": [
    "os.listdir(folder)"
   ]
  },
  {
   "cell_type": "markdown",
   "metadata": {},
   "source": [
    "We have then read the content from all files and put them into one DataFrame"
   ]
  },
  {
   "cell_type": "code",
   "execution_count": 25,
   "metadata": {},
   "outputs": [
    {
     "data": {
      "text/html": [
       "<div>\n",
       "<style scoped>\n",
       "    .dataframe tbody tr th:only-of-type {\n",
       "        vertical-align: middle;\n",
       "    }\n",
       "\n",
       "    .dataframe tbody tr th {\n",
       "        vertical-align: top;\n",
       "    }\n",
       "\n",
       "    .dataframe thead th {\n",
       "        text-align: right;\n",
       "    }\n",
       "</style>\n",
       "<table border=\"1\" class=\"dataframe\">\n",
       "  <thead>\n",
       "    <tr style=\"text-align: right;\">\n",
       "      <th></th>\n",
       "      <th>calendarDate</th>\n",
       "      <th>totalKilocalories</th>\n",
       "      <th>activeKilocalories</th>\n",
       "      <th>restingCaloriesFromActivity</th>\n",
       "      <th>totalSteps</th>\n",
       "      <th>moderateIntensityMinutes</th>\n",
       "      <th>vigorousIntensityMinutes</th>\n",
       "      <th>userIntensityMinutesGoal</th>\n",
       "      <th>minHeartRate</th>\n",
       "      <th>maxHeartRate</th>\n",
       "      <th>restingHeartRate</th>\n",
       "      <th>minAvgHeartRate</th>\n",
       "      <th>maxAvgHeartRate</th>\n",
       "      <th>allDayStress</th>\n",
       "      <th>bodyBattery</th>\n",
       "    </tr>\n",
       "  </thead>\n",
       "  <tbody>\n",
       "    <tr>\n",
       "      <th>14</th>\n",
       "      <td>2020-06-18</td>\n",
       "      <td>1923.0</td>\n",
       "      <td>446.0</td>\n",
       "      <td>NaN</td>\n",
       "      <td>13987.0</td>\n",
       "      <td>11.0</td>\n",
       "      <td>0.0</td>\n",
       "      <td>180.0</td>\n",
       "      <td>64.0</td>\n",
       "      <td>128.0</td>\n",
       "      <td>68.0</td>\n",
       "      <td>65.0</td>\n",
       "      <td>121.0</td>\n",
       "      <td>{'userProfilePK': 86607424, 'calendarDate': '2...</td>\n",
       "      <td>{'userProfilePK': 86607424, 'calendarDate': '2...</td>\n",
       "    </tr>\n",
       "    <tr>\n",
       "      <th>15</th>\n",
       "      <td>2020-06-19</td>\n",
       "      <td>1885.0</td>\n",
       "      <td>408.0</td>\n",
       "      <td>NaN</td>\n",
       "      <td>12455.0</td>\n",
       "      <td>2.0</td>\n",
       "      <td>10.0</td>\n",
       "      <td>180.0</td>\n",
       "      <td>55.0</td>\n",
       "      <td>160.0</td>\n",
       "      <td>64.0</td>\n",
       "      <td>56.0</td>\n",
       "      <td>158.0</td>\n",
       "      <td>{'userProfilePK': 86607424, 'calendarDate': '2...</td>\n",
       "      <td>{'userProfilePK': 86607424, 'calendarDate': '2...</td>\n",
       "    </tr>\n",
       "    <tr>\n",
       "      <th>16</th>\n",
       "      <td>2020-06-20</td>\n",
       "      <td>2456.0</td>\n",
       "      <td>975.0</td>\n",
       "      <td>NaN</td>\n",
       "      <td>26379.0</td>\n",
       "      <td>20.0</td>\n",
       "      <td>88.0</td>\n",
       "      <td>180.0</td>\n",
       "      <td>53.0</td>\n",
       "      <td>159.0</td>\n",
       "      <td>62.0</td>\n",
       "      <td>54.0</td>\n",
       "      <td>156.0</td>\n",
       "      <td>{'userProfilePK': 86607424, 'calendarDate': '2...</td>\n",
       "      <td>{'userProfilePK': 86607424, 'calendarDate': '2...</td>\n",
       "    </tr>\n",
       "    <tr>\n",
       "      <th>17</th>\n",
       "      <td>2020-06-21</td>\n",
       "      <td>2202.0</td>\n",
       "      <td>734.0</td>\n",
       "      <td>NaN</td>\n",
       "      <td>12401.0</td>\n",
       "      <td>52.0</td>\n",
       "      <td>4.0</td>\n",
       "      <td>180.0</td>\n",
       "      <td>50.0</td>\n",
       "      <td>139.0</td>\n",
       "      <td>60.0</td>\n",
       "      <td>52.0</td>\n",
       "      <td>134.0</td>\n",
       "      <td>{'userProfilePK': 86607424, 'calendarDate': '2...</td>\n",
       "      <td>{'userProfilePK': 86607424, 'calendarDate': '2...</td>\n",
       "    </tr>\n",
       "    <tr>\n",
       "      <th>18</th>\n",
       "      <td>2020-06-22</td>\n",
       "      <td>2017.0</td>\n",
       "      <td>549.0</td>\n",
       "      <td>NaN</td>\n",
       "      <td>15256.0</td>\n",
       "      <td>5.0</td>\n",
       "      <td>43.0</td>\n",
       "      <td>180.0</td>\n",
       "      <td>53.0</td>\n",
       "      <td>152.0</td>\n",
       "      <td>60.0</td>\n",
       "      <td>54.0</td>\n",
       "      <td>149.0</td>\n",
       "      <td>{'userProfilePK': 86607424, 'calendarDate': '2...</td>\n",
       "      <td>{'userProfilePK': 86607424, 'calendarDate': '2...</td>\n",
       "    </tr>\n",
       "  </tbody>\n",
       "</table>\n",
       "</div>"
      ],
      "text/plain": [
       "   calendarDate  totalKilocalories  activeKilocalories  \\\n",
       "14   2020-06-18             1923.0               446.0   \n",
       "15   2020-06-19             1885.0               408.0   \n",
       "16   2020-06-20             2456.0               975.0   \n",
       "17   2020-06-21             2202.0               734.0   \n",
       "18   2020-06-22             2017.0               549.0   \n",
       "\n",
       "    restingCaloriesFromActivity  totalSteps  moderateIntensityMinutes  \\\n",
       "14                          NaN     13987.0                      11.0   \n",
       "15                          NaN     12455.0                       2.0   \n",
       "16                          NaN     26379.0                      20.0   \n",
       "17                          NaN     12401.0                      52.0   \n",
       "18                          NaN     15256.0                       5.0   \n",
       "\n",
       "    vigorousIntensityMinutes  userIntensityMinutesGoal  minHeartRate  \\\n",
       "14                       0.0                     180.0          64.0   \n",
       "15                      10.0                     180.0          55.0   \n",
       "16                      88.0                     180.0          53.0   \n",
       "17                       4.0                     180.0          50.0   \n",
       "18                      43.0                     180.0          53.0   \n",
       "\n",
       "    maxHeartRate  restingHeartRate  minAvgHeartRate  maxAvgHeartRate  \\\n",
       "14         128.0              68.0             65.0            121.0   \n",
       "15         160.0              64.0             56.0            158.0   \n",
       "16         159.0              62.0             54.0            156.0   \n",
       "17         139.0              60.0             52.0            134.0   \n",
       "18         152.0              60.0             54.0            149.0   \n",
       "\n",
       "                                         allDayStress  \\\n",
       "14  {'userProfilePK': 86607424, 'calendarDate': '2...   \n",
       "15  {'userProfilePK': 86607424, 'calendarDate': '2...   \n",
       "16  {'userProfilePK': 86607424, 'calendarDate': '2...   \n",
       "17  {'userProfilePK': 86607424, 'calendarDate': '2...   \n",
       "18  {'userProfilePK': 86607424, 'calendarDate': '2...   \n",
       "\n",
       "                                          bodyBattery  \n",
       "14  {'userProfilePK': 86607424, 'calendarDate': '2...  \n",
       "15  {'userProfilePK': 86607424, 'calendarDate': '2...  \n",
       "16  {'userProfilePK': 86607424, 'calendarDate': '2...  \n",
       "17  {'userProfilePK': 86607424, 'calendarDate': '2...  \n",
       "18  {'userProfilePK': 86607424, 'calendarDate': '2...  "
      ]
     },
     "execution_count": 25,
     "metadata": {},
     "output_type": "execute_result"
    }
   ],
   "source": [
    "# Setting up paths and configurations\n",
    "garmin_base_dir = \"../files/Garmin_20241403\"\n",
    "di_connect_path = os.path.join(garmin_base_dir, \"DI_CONNECT\", \"DI-Connect-Aggregator\")\n",
    "columns_of_interest = ['calendarDate', 'totalKilocalories', 'activeKilocalories', 'restingCaloriesFromActivity', \n",
    "                       'totalSteps', 'moderateIntensityMinutes', 'vigorousIntensityMinutes', 'userIntensityMinutesGoal', \n",
    "                       'minHeartRate', 'maxHeartRate', 'restingHeartRate', 'minAvgHeartRate', 'maxAvgHeartRate',\n",
    "                       'allDayStress', 'bodyBattery']\n",
    "\n",
    "# Function to load JSONs and combine them into a filtered DataFrame\n",
    "def load_and_filter_json(path, start_year=2020):\n",
    "    all_dfs = []\n",
    "    for root, _, files in os.walk(path):\n",
    "        json_files = [f for f in sorted(files) if f.startswith('UDS') and f.endswith('.json')]\n",
    "        for file in json_files:\n",
    "            with open(os.path.join(root, file), 'r') as f:\n",
    "                data = json.load(f)\n",
    "            df = pd.DataFrame(data) if isinstance(data, list) else pd.DataFrame([data])\n",
    "            all_dfs.append(df)\n",
    "\n",
    "    # Combining and filtering the data\n",
    "    if all_dfs:\n",
    "        full_df = pd.concat(all_dfs, ignore_index=True)\n",
    "        full_df['calendarDate'] = pd.to_datetime(full_df['calendarDate'])\n",
    "        filtered_df = full_df.loc[full_df['calendarDate'].dt.year >= start_year, columns_of_interest]\n",
    "        return filtered_df\n",
    "    return pd.DataFrame()  # Return empty DataFrame if no data was loaded\n",
    "\n",
    "# Apply the function and display the resulting DataFrame\n",
    "focus_df = load_and_filter_json(di_connect_path)\n",
    "focus_df.head()"
   ]
  },
  {
   "cell_type": "markdown",
   "metadata": {},
   "source": [
    "### Why did you choose this/these particular dataset(s)?"
   ]
  },
  {
   "cell_type": "markdown",
   "metadata": {},
   "source": [
    "Our primary objective has been to craft an article for publication on \"Medium\" that delves into the insights obtainable from one's personal Garmin Data. Accordingly, our narrative centers around a personal story rather than a broad analysis applicable to humanity at large. This means we opted not to examine datasets from a wide array of individuals but focused exclusively on the detailed tracking data of one specific person. In essence, our aim was not to extrapolate general conclusions about health data from a large population, but rather to explore a distinctly personal perspective.\n"
   ]
  },
  {
   "cell_type": "markdown",
   "metadata": {},
   "source": [
    "### What was your goal for the end user's experience?"
   ]
  },
  {
   "cell_type": "markdown",
   "metadata": {},
   "source": [
    "\n",
    "Your primary objective has been to inspire readers of our article to explore their personal data in ways that might not be immediately apparent to everyone. We have opted for a narrative that emphasizes personal stories to infuse the article with energy, inspiration, and creativity, adopting an approach that leans more towards the artistic than the strictly scientific. Our hope is that this approach will resonate with readers in a way that encourages them to delve deeper into their own data."
   ]
  },
  {
   "cell_type": "markdown",
   "metadata": {},
   "source": [
    "## Basic stats."
   ]
  },
  {
   "cell_type": "markdown",
   "metadata": {},
   "source": [
    "### Write about your choices in data cleaning and preprocessing\n",
    "We have previously discussed the specific data and files we chose to work with, but in more details the process involved looping through all available files to create a dataframe containing each file's content, and then displaying the first five rows of the dataset. Most of the files did not contain relevant data for our purposes; however, the files in the \"DI-Connect-Aggregator\" folder provided daily health data, and those in the \"DI-Connect-Wellness\" folder contained sleep data, which were our primary focus.\n",
    "\n",
    "We selected 22 JSON files from the \"DI-Connect-Aggregator\" folder and merged the data from these files into a single dataframe. We excluded all data prior to 2020, as the watch was not worn before this period.\n",
    "\n",
    "In the dataframe 2 collumns (allDayStress and bodyBattery) contained dictionaries with key value pairs of data. The only data from these dictionaries we needed was .... (til Lenka: hvorfor er dette vigitgt?)"
   ]
  },
  {
   "cell_type": "raw",
   "metadata": {
    "vscode": {
     "languageId": "raw"
    }
   },
   "source": [
    "focus_df[['allDayStress']].iat[0,0]['aggregatorList']\n",
    "focus_df[['bodyBattery']].iat[0,0]['bodyBatteryStatList']"
   ]
  },
  {
   "cell_type": "markdown",
   "metadata": {},
   "source": [
    "### Write a short section that discusses the dataset stats, containing key points/plots from your exploratory data analysis."
   ]
  },
  {
   "cell_type": "markdown",
   "metadata": {},
   "source": [
    "One of our initial interests was to see the sleep patterns over time."
   ]
  },
  {
   "cell_type": "code",
   "execution_count": 28,
   "metadata": {},
   "outputs": [],
   "source": [
    "folder = \"DI-Connect-Wellness\"\n",
    "di_connect_path = os.path.join(garmin_base_dir, \"DI_CONNECT\", folder)\n",
    "\n",
    "# Function to load JSONs and combine them into a filtered DataFrame\n",
    "def load_and_filter_json(path, start_year=2020):\n",
    "    all_dfs = []\n",
    "    for root, _, files in os.walk(path):\n",
    "        json_files = [f for f in sorted(files) if f.endswith('sleepData.json')]\n",
    "        for file in json_files:\n",
    "            with open(os.path.join(root, file), 'r') as f:\n",
    "                data = json.load(f)\n",
    "            df = pd.DataFrame(data) if isinstance(data, list) else pd.DataFrame([data])\n",
    "            all_dfs.append(df)\n",
    "\n",
    "    # Combining and filtering the data\n",
    "    if all_dfs:\n",
    "        full_df = pd.concat(all_dfs, ignore_index=True)\n",
    "        full_df['calendarDate'] = pd.to_datetime(full_df['calendarDate'])\n",
    "        filtered_df = full_df.loc[full_df['calendarDate'].dt.year >= start_year]\n",
    "        return filtered_df\n",
    "    return pd.DataFrame()  # Return empty DataFrame if no data was loaded\n",
    "\n",
    "# Apply the function and display the resulting DataFrame\n",
    "sleep_df = load_and_filter_json(di_connect_path)\n",
    "#sleep_df"
   ]
  },
  {
   "cell_type": "code",
   "execution_count": 29,
   "metadata": {},
   "outputs": [
    {
     "data": {
      "text/html": [
       "    <style>\n",
       "        .bk-notebook-logo {\n",
       "            display: block;\n",
       "            width: 20px;\n",
       "            height: 20px;\n",
       "            background-image: url(data:image/png;base64,iVBORw0KGgoAAAANSUhEUgAAABQAAAAUCAYAAACNiR0NAAAABHNCSVQICAgIfAhkiAAAAAlwSFlzAAALEgAACxIB0t1+/AAAABx0RVh0U29mdHdhcmUAQWRvYmUgRmlyZXdvcmtzIENTNui8sowAAAOkSURBVDiNjZRtaJVlGMd/1/08zzln5zjP1LWcU9N0NkN8m2CYjpgQYQXqSs0I84OLIC0hkEKoPtiH3gmKoiJDU7QpLgoLjLIQCpEsNJ1vqUOdO7ppbuec5+V+rj4ctwzd8IIbbi6u+8f1539dt3A78eXC7QizUF7gyV1fD1Yqg4JWz84yffhm0qkFqBogB9rM8tZdtwVsPUhWhGcFJngGeWrPzHm5oaMmkfEg1usvLFyc8jLRqDOMru7AyC8saQr7GG7f5fvDeH7Ej8CM66nIF+8yngt6HWaKh7k49Soy9nXurCi1o3qUbS3zWfrYeQDTB/Qj6kX6Ybhw4B+bOYoLKCC9H3Nu/leUTZ1JdRWkkn2ldcCamzrcf47KKXdAJllSlxAOkRgyHsGC/zRday5Qld9DyoM4/q/rUoy/CXh3jzOu3bHUVZeU+DEn8FInkPBFlu3+nW3Nw0mk6vCDiWg8CeJaxEwuHS3+z5RgY+YBR6V1Z1nxSOfoaPa4LASWxxdNp+VWTk7+4vzaou8v8PN+xo+KY2xsw6une2frhw05CTYOmQvsEhjhWjn0bmXPjpE1+kplmmkP3suftwTubK9Vq22qKmrBhpY4jvd5afdRA3wGjFAgcnTK2s4hY0/GPNIb0nErGMCRxWOOX64Z8RAC4oCXdklmEvcL8o0BfkNK4lUg9HTl+oPlQxdNo3Mg4Nv175e/1LDGzZen30MEjRUtmXSfiTVu1kK8W4txyV6BMKlbgk3lMwYCiusNy9fVfvvwMxv8Ynl6vxoByANLTWplvuj/nF9m2+PDtt1eiHPBr1oIfhCChQMBw6Aw0UulqTKZdfVvfG7VcfIqLG9bcldL/+pdWTLxLUy8Qq38heUIjh4XlzZxzQm19lLFlr8vdQ97rjZVOLf8nclzckbcD4wxXMidpX30sFd37Fv/GtwwhzhxGVAprjbg0gCAEeIgwCZyTV2Z1REEW8O4py0wsjeloKoMr6iCY6dP92H6Vw/oTyICIthibxjm/DfN9lVz8IqtqKYLUXfoKVMVQVVJOElGjrnnUt9T9wbgp8AyYKaGlqingHZU/uG2NTZSVqwHQTWkx9hxjkpWDaCg6Ckj5qebgBVbT3V3NNXMSiWSDdGV3hrtzla7J+duwPOToIg42ChPQOQjspnSlp1V+Gjdged7+8UN5CRAV7a5EdFNwCjEaBR27b3W890TE7g24NAP/mMDXRWrGoFPQI9ls/MWO2dWFAar/xcOIImbbpA3zgAAAABJRU5ErkJggg==);\n",
       "        }\n",
       "    </style>\n",
       "    <div>\n",
       "        <a href=\"https://bokeh.org\" target=\"_blank\" class=\"bk-notebook-logo\"></a>\n",
       "        <span id=\"a5a40f66-f259-4464-99d9-17472645ec1c\">Loading BokehJS ...</span>\n",
       "    </div>\n"
      ]
     },
     "metadata": {},
     "output_type": "display_data"
    },
    {
     "data": {
      "application/javascript": "'use strict';\n(function(root) {\n  function now() {\n    return new Date();\n  }\n\n  const force = true;\n\n  if (typeof root._bokeh_onload_callbacks === \"undefined\" || force === true) {\n    root._bokeh_onload_callbacks = [];\n    root._bokeh_is_loading = undefined;\n  }\n\nconst JS_MIME_TYPE = 'application/javascript';\n  const HTML_MIME_TYPE = 'text/html';\n  const EXEC_MIME_TYPE = 'application/vnd.bokehjs_exec.v0+json';\n  const CLASS_NAME = 'output_bokeh rendered_html';\n\n  /**\n   * Render data to the DOM node\n   */\n  function render(props, node) {\n    const script = document.createElement(\"script\");\n    node.appendChild(script);\n  }\n\n  /**\n   * Handle when an output is cleared or removed\n   */\n  function handleClearOutput(event, handle) {\n    function drop(id) {\n      const view = Bokeh.index.get_by_id(id)\n      if (view != null) {\n        view.model.document.clear()\n        Bokeh.index.delete(view)\n      }\n    }\n\n    const cell = handle.cell;\n\n    const id = cell.output_area._bokeh_element_id;\n    const server_id = cell.output_area._bokeh_server_id;\n\n    // Clean up Bokeh references\n    if (id != null) {\n      drop(id)\n    }\n\n    if (server_id !== undefined) {\n      // Clean up Bokeh references\n      const cmd_clean = \"from bokeh.io.state import curstate; print(curstate().uuid_to_server['\" + server_id + \"'].get_sessions()[0].document.roots[0]._id)\";\n      cell.notebook.kernel.execute(cmd_clean, {\n        iopub: {\n          output: function(msg) {\n            const id = msg.content.text.trim()\n            drop(id)\n          }\n        }\n      });\n      // Destroy server and session\n      const cmd_destroy = \"import bokeh.io.notebook as ion; ion.destroy_server('\" + server_id + \"')\";\n      cell.notebook.kernel.execute(cmd_destroy);\n    }\n  }\n\n  /**\n   * Handle when a new output is added\n   */\n  function handleAddOutput(event, handle) {\n    const output_area = handle.output_area;\n    const output = handle.output;\n\n    // limit handleAddOutput to display_data with EXEC_MIME_TYPE content only\n    if ((output.output_type != \"display_data\") || (!Object.prototype.hasOwnProperty.call(output.data, EXEC_MIME_TYPE))) {\n      return\n    }\n\n    const toinsert = output_area.element.find(\".\" + CLASS_NAME.split(' ')[0]);\n\n    if (output.metadata[EXEC_MIME_TYPE][\"id\"] !== undefined) {\n      toinsert[toinsert.length - 1].firstChild.textContent = output.data[JS_MIME_TYPE];\n      // store reference to embed id on output_area\n      output_area._bokeh_element_id = output.metadata[EXEC_MIME_TYPE][\"id\"];\n    }\n    if (output.metadata[EXEC_MIME_TYPE][\"server_id\"] !== undefined) {\n      const bk_div = document.createElement(\"div\");\n      bk_div.innerHTML = output.data[HTML_MIME_TYPE];\n      const script_attrs = bk_div.children[0].attributes;\n      for (let i = 0; i < script_attrs.length; i++) {\n        toinsert[toinsert.length - 1].firstChild.setAttribute(script_attrs[i].name, script_attrs[i].value);\n        toinsert[toinsert.length - 1].firstChild.textContent = bk_div.children[0].textContent\n      }\n      // store reference to server id on output_area\n      output_area._bokeh_server_id = output.metadata[EXEC_MIME_TYPE][\"server_id\"];\n    }\n  }\n\n  function register_renderer(events, OutputArea) {\n\n    function append_mime(data, metadata, element) {\n      // create a DOM node to render to\n      const toinsert = this.create_output_subarea(\n        metadata,\n        CLASS_NAME,\n        EXEC_MIME_TYPE\n      );\n      this.keyboard_manager.register_events(toinsert);\n      // Render to node\n      const props = {data: data, metadata: metadata[EXEC_MIME_TYPE]};\n      render(props, toinsert[toinsert.length - 1]);\n      element.append(toinsert);\n      return toinsert\n    }\n\n    /* Handle when an output is cleared or removed */\n    events.on('clear_output.CodeCell', handleClearOutput);\n    events.on('delete.Cell', handleClearOutput);\n\n    /* Handle when a new output is added */\n    events.on('output_added.OutputArea', handleAddOutput);\n\n    /**\n     * Register the mime type and append_mime function with output_area\n     */\n    OutputArea.prototype.register_mime_type(EXEC_MIME_TYPE, append_mime, {\n      /* Is output safe? */\n      safe: true,\n      /* Index of renderer in `output_area.display_order` */\n      index: 0\n    });\n  }\n\n  // register the mime type if in Jupyter Notebook environment and previously unregistered\n  if (root.Jupyter !== undefined) {\n    const events = require('base/js/events');\n    const OutputArea = require('notebook/js/outputarea').OutputArea;\n\n    if (OutputArea.prototype.mime_types().indexOf(EXEC_MIME_TYPE) == -1) {\n      register_renderer(events, OutputArea);\n    }\n  }\n  if (typeof (root._bokeh_timeout) === \"undefined\" || force === true) {\n    root._bokeh_timeout = Date.now() + 5000;\n    root._bokeh_failed_load = false;\n  }\n\n  const NB_LOAD_WARNING = {'data': {'text/html':\n     \"<div style='background-color: #fdd'>\\n\"+\n     \"<p>\\n\"+\n     \"BokehJS does not appear to have successfully loaded. If loading BokehJS from CDN, this \\n\"+\n     \"may be due to a slow or bad network connection. Possible fixes:\\n\"+\n     \"</p>\\n\"+\n     \"<ul>\\n\"+\n     \"<li>re-rerun `output_notebook()` to attempt to load from CDN again, or</li>\\n\"+\n     \"<li>use INLINE resources instead, as so:</li>\\n\"+\n     \"</ul>\\n\"+\n     \"<code>\\n\"+\n     \"from bokeh.resources import INLINE\\n\"+\n     \"output_notebook(resources=INLINE)\\n\"+\n     \"</code>\\n\"+\n     \"</div>\"}};\n\n  function display_loaded(error = null) {\n    const el = document.getElementById(\"a5a40f66-f259-4464-99d9-17472645ec1c\");\n    if (el != null) {\n      const html = (() => {\n        if (typeof root.Bokeh === \"undefined\") {\n          if (error == null) {\n            return \"BokehJS is loading ...\";\n          } else {\n            return \"BokehJS failed to load.\";\n          }\n        } else {\n          const prefix = `BokehJS ${root.Bokeh.version}`;\n          if (error == null) {\n            return `${prefix} successfully loaded.`;\n          } else {\n            return `${prefix} <b>encountered errors</b> while loading and may not function as expected.`;\n          }\n        }\n      })();\n      el.innerHTML = html;\n\n      if (error != null) {\n        const wrapper = document.createElement(\"div\");\n        wrapper.style.overflow = \"auto\";\n        wrapper.style.height = \"5em\";\n        wrapper.style.resize = \"vertical\";\n        const content = document.createElement(\"div\");\n        content.style.fontFamily = \"monospace\";\n        content.style.whiteSpace = \"pre-wrap\";\n        content.style.backgroundColor = \"rgb(255, 221, 221)\";\n        content.textContent = error.stack ?? error.toString();\n        wrapper.append(content);\n        el.append(wrapper);\n      }\n    } else if (Date.now() < root._bokeh_timeout) {\n      setTimeout(() => display_loaded(error), 100);\n    }\n  }\n\n  function run_callbacks() {\n    try {\n      root._bokeh_onload_callbacks.forEach(function(callback) {\n        if (callback != null)\n          callback();\n      });\n    } finally {\n      delete root._bokeh_onload_callbacks\n    }\n    console.debug(\"Bokeh: all callbacks have finished\");\n  }\n\n  function load_libs(css_urls, js_urls, callback) {\n    if (css_urls == null) css_urls = [];\n    if (js_urls == null) js_urls = [];\n\n    root._bokeh_onload_callbacks.push(callback);\n    if (root._bokeh_is_loading > 0) {\n      console.debug(\"Bokeh: BokehJS is being loaded, scheduling callback at\", now());\n      return null;\n    }\n    if (js_urls == null || js_urls.length === 0) {\n      run_callbacks();\n      return null;\n    }\n    console.debug(\"Bokeh: BokehJS not loaded, scheduling load and callback at\", now());\n    root._bokeh_is_loading = css_urls.length + js_urls.length;\n\n    function on_load() {\n      root._bokeh_is_loading--;\n      if (root._bokeh_is_loading === 0) {\n        console.debug(\"Bokeh: all BokehJS libraries/stylesheets loaded\");\n        run_callbacks()\n      }\n    }\n\n    function on_error(url) {\n      console.error(\"failed to load \" + url);\n    }\n\n    for (let i = 0; i < css_urls.length; i++) {\n      const url = css_urls[i];\n      const element = document.createElement(\"link\");\n      element.onload = on_load;\n      element.onerror = on_error.bind(null, url);\n      element.rel = \"stylesheet\";\n      element.type = \"text/css\";\n      element.href = url;\n      console.debug(\"Bokeh: injecting link tag for BokehJS stylesheet: \", url);\n      document.body.appendChild(element);\n    }\n\n    for (let i = 0; i < js_urls.length; i++) {\n      const url = js_urls[i];\n      const element = document.createElement('script');\n      element.onload = on_load;\n      element.onerror = on_error.bind(null, url);\n      element.async = false;\n      element.src = url;\n      console.debug(\"Bokeh: injecting script tag for BokehJS library: \", url);\n      document.head.appendChild(element);\n    }\n  };\n\n  function inject_raw_css(css) {\n    const element = document.createElement(\"style\");\n    element.appendChild(document.createTextNode(css));\n    document.body.appendChild(element);\n  }\n\n  const js_urls = [\"https://cdn.bokeh.org/bokeh/release/bokeh-3.4.1.min.js\", \"https://cdn.bokeh.org/bokeh/release/bokeh-gl-3.4.1.min.js\", \"https://cdn.bokeh.org/bokeh/release/bokeh-widgets-3.4.1.min.js\", \"https://cdn.bokeh.org/bokeh/release/bokeh-tables-3.4.1.min.js\", \"https://cdn.bokeh.org/bokeh/release/bokeh-mathjax-3.4.1.min.js\"];\n  const css_urls = [];\n\n  const inline_js = [    function(Bokeh) {\n      Bokeh.set_log_level(\"info\");\n    },\nfunction(Bokeh) {\n    }\n  ];\n\n  function run_inline_js() {\n    if (root.Bokeh !== undefined || force === true) {\n      try {\n            for (let i = 0; i < inline_js.length; i++) {\n      inline_js[i].call(root, root.Bokeh);\n    }\n\n      } catch (error) {display_loaded(error);throw error;\n      }if (force === true) {\n        display_loaded();\n      }} else if (Date.now() < root._bokeh_timeout) {\n      setTimeout(run_inline_js, 100);\n    } else if (!root._bokeh_failed_load) {\n      console.log(\"Bokeh: BokehJS failed to load within specified timeout.\");\n      root._bokeh_failed_load = true;\n    } else if (force !== true) {\n      const cell = $(document.getElementById(\"a5a40f66-f259-4464-99d9-17472645ec1c\")).parents('.cell').data().cell;\n      cell.output_area.append_execute_result(NB_LOAD_WARNING)\n    }\n  }\n\n  if (root._bokeh_is_loading === 0) {\n    console.debug(\"Bokeh: BokehJS loaded, going straight to plotting\");\n    run_inline_js();\n  } else {\n    load_libs(css_urls, js_urls, function() {\n      console.debug(\"Bokeh: BokehJS plotting callback run at\", now());\n      run_inline_js();\n    });\n  }\n}(window));",
      "application/vnd.bokehjs_load.v0+json": ""
     },
     "metadata": {},
     "output_type": "display_data"
    },
    {
     "data": {
      "text/html": [
       "\n",
       "  <div id=\"f1622122-0368-4016-8348-5c61b0090755\" data-root-id=\"p1088\" style=\"display: contents;\"></div>\n"
      ]
     },
     "metadata": {},
     "output_type": "display_data"
    },
    {
     "data": {
      "application/javascript": "(function(root) {\n  function embed_document(root) {\n  const docs_json = {\"e522037b-4e6b-44e4-9166-5cdcda809ea7\":{\"version\":\"3.4.1\",\"title\":\"Bokeh Application\",\"roots\":[{\"type\":\"object\",\"name\":\"Figure\",\"id\":\"p1088\",\"attributes\":{\"width\":900,\"x_range\":{\"type\":\"object\",\"name\":\"DataRange1d\",\"id\":\"p1089\"},\"y_range\":{\"type\":\"object\",\"name\":\"DataRange1d\",\"id\":\"p1090\"},\"x_scale\":{\"type\":\"object\",\"name\":\"LinearScale\",\"id\":\"p1098\"},\"y_scale\":{\"type\":\"object\",\"name\":\"LinearScale\",\"id\":\"p1099\"},\"title\":{\"type\":\"object\",\"name\":\"Title\",\"id\":\"p1091\",\"attributes\":{\"text\":\"Sleep Data Over Time\"}},\"renderers\":[{\"type\":\"object\",\"name\":\"GlyphRenderer\",\"id\":\"p1139\",\"attributes\":{\"data_source\":{\"type\":\"object\",\"name\":\"ColumnDataSource\",\"id\":\"p1085\",\"attributes\":{\"selected\":{\"type\":\"object\",\"name\":\"Selection\",\"id\":\"p1086\",\"attributes\":{\"indices\":[],\"line_indices\":[]}},\"selection_policy\":{\"type\":\"object\",\"name\":\"UnionRenderers\",\"id\":\"p1087\"},\"data\":{\"type\":\"map\",\"entries\":[[\"date\",{\"type\":\"ndarray\",\"array\":{\"type\":\"bytes\",\"data\":\"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\"},\"shape\":[1364],\"dtype\":\"float64\",\"order\":\"little\"}],[\"deep\",{\"type\":\"ndarray\",\"array\":{\"type\":\"bytes\",\"data\":\"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\"},\"shape\":[1364],\"dtype\":\"float64\",\"order\":\"little\"}],[\"light\",{\"type\":\"ndarray\",\"array\":{\"type\":\"bytes\",\"data\":\"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\"},\"shape\":[1364],\"dtype\":\"float64\",\"order\":\"little\"}],[\"rem\",{\"type\":\"ndarray\",\"array\":{\"type\":\"bytes\",\"data\":\"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\"},\"shape\":[1364],\"dtype\":\"float64\",\"order\":\"little\"}]]}}},\"view\":{\"type\":\"object\",\"name\":\"CDSView\",\"id\":\"p1140\",\"attributes\":{\"filter\":{\"type\":\"object\",\"name\":\"AllIndices\",\"id\":\"p1141\"}}},\"glyph\":{\"type\":\"object\",\"name\":\"Line\",\"id\":\"p1136\",\"attributes\":{\"x\":{\"type\":\"field\",\"field\":\"date\"},\"y\":{\"type\":\"field\",\"field\":\"deep\"},\"line_color\":\"red\",\"line_width\":2}},\"nonselection_glyph\":{\"type\":\"object\",\"name\":\"Line\",\"id\":\"p1137\",\"attributes\":{\"x\":{\"type\":\"field\",\"field\":\"date\"},\"y\":{\"type\":\"field\",\"field\":\"deep\"},\"line_color\":\"red\",\"line_alpha\":0.1,\"line_width\":2}},\"muted_glyph\":{\"type\":\"object\",\"name\":\"Line\",\"id\":\"p1138\",\"attributes\":{\"x\":{\"type\":\"field\",\"field\":\"date\"},\"y\":{\"type\":\"field\",\"field\":\"deep\"},\"line_color\":\"red\",\"line_alpha\":0.2,\"line_width\":2}}}},{\"type\":\"object\",\"name\":\"GlyphRenderer\",\"id\":\"p1150\",\"attributes\":{\"data_source\":{\"id\":\"p1085\"},\"view\":{\"type\":\"object\",\"name\":\"CDSView\",\"id\":\"p1151\",\"attributes\":{\"filter\":{\"type\":\"object\",\"name\":\"AllIndices\",\"id\":\"p1152\"}}},\"glyph\":{\"type\":\"object\",\"name\":\"Line\",\"id\":\"p1147\",\"attributes\":{\"x\":{\"type\":\"field\",\"field\":\"date\"},\"y\":{\"type\":\"field\",\"field\":\"light\"},\"line_color\":\"green\",\"line_width\":2}},\"nonselection_glyph\":{\"type\":\"object\",\"name\":\"Line\",\"id\":\"p1148\",\"attributes\":{\"x\":{\"type\":\"field\",\"field\":\"date\"},\"y\":{\"type\":\"field\",\"field\":\"light\"},\"line_color\":\"green\",\"line_alpha\":0.1,\"line_width\":2}},\"muted_glyph\":{\"type\":\"object\",\"name\":\"Line\",\"id\":\"p1149\",\"attributes\":{\"x\":{\"type\":\"field\",\"field\":\"date\"},\"y\":{\"type\":\"field\",\"field\":\"light\"},\"line_color\":\"green\",\"line_alpha\":0.2,\"line_width\":2}}}},{\"type\":\"object\",\"name\":\"GlyphRenderer\",\"id\":\"p1160\",\"attributes\":{\"data_source\":{\"id\":\"p1085\"},\"view\":{\"type\":\"object\",\"name\":\"CDSView\",\"id\":\"p1161\",\"attributes\":{\"filter\":{\"type\":\"object\",\"name\":\"AllIndices\",\"id\":\"p1162\"}}},\"glyph\":{\"type\":\"object\",\"name\":\"Line\",\"id\":\"p1157\",\"attributes\":{\"x\":{\"type\":\"field\",\"field\":\"date\"},\"y\":{\"type\":\"field\",\"field\":\"rem\"},\"line_color\":\"blue\",\"line_width\":2}},\"nonselection_glyph\":{\"type\":\"object\",\"name\":\"Line\",\"id\":\"p1158\",\"attributes\":{\"x\":{\"type\":\"field\",\"field\":\"date\"},\"y\":{\"type\":\"field\",\"field\":\"rem\"},\"line_color\":\"blue\",\"line_alpha\":0.1,\"line_width\":2}},\"muted_glyph\":{\"type\":\"object\",\"name\":\"Line\",\"id\":\"p1159\",\"attributes\":{\"x\":{\"type\":\"field\",\"field\":\"date\"},\"y\":{\"type\":\"field\",\"field\":\"rem\"},\"line_color\":\"blue\",\"line_alpha\":0.2,\"line_width\":2}}}}],\"toolbar\":{\"type\":\"object\",\"name\":\"Toolbar\",\"id\":\"p1097\",\"attributes\":{\"tools\":[{\"type\":\"object\",\"name\":\"PanTool\",\"id\":\"p1122\"},{\"type\":\"object\",\"name\":\"WheelZoomTool\",\"id\":\"p1123\",\"attributes\":{\"renderers\":\"auto\"}},{\"type\":\"object\",\"name\":\"BoxZoomTool\",\"id\":\"p1124\",\"attributes\":{\"overlay\":{\"type\":\"object\",\"name\":\"BoxAnnotation\",\"id\":\"p1125\",\"attributes\":{\"syncable\":false,\"level\":\"overlay\",\"visible\":false,\"left\":{\"type\":\"number\",\"value\":\"nan\"},\"right\":{\"type\":\"number\",\"value\":\"nan\"},\"top\":{\"type\":\"number\",\"value\":\"nan\"},\"bottom\":{\"type\":\"number\",\"value\":\"nan\"},\"left_units\":\"canvas\",\"right_units\":\"canvas\",\"top_units\":\"canvas\",\"bottom_units\":\"canvas\",\"line_color\":\"black\",\"line_alpha\":1.0,\"line_width\":2,\"line_dash\":[4,4],\"fill_color\":\"lightgrey\",\"fill_alpha\":0.5}}}},{\"type\":\"object\",\"name\":\"SaveTool\",\"id\":\"p1130\"},{\"type\":\"object\",\"name\":\"ResetTool\",\"id\":\"p1131\"},{\"type\":\"object\",\"name\":\"HelpTool\",\"id\":\"p1132\"},{\"type\":\"object\",\"name\":\"HoverTool\",\"id\":\"p1164\",\"attributes\":{\"renderers\":\"auto\",\"tooltips\":[[\"Date\",\"@date{%F}\"],[\"Deep Sleep\",\"@deep hours\"],[\"Light Sleep\",\"@light hours\"],[\"REM Sleep\",\"@rem hours\"]],\"formatters\":{\"type\":\"map\",\"entries\":[[\"@date\",\"datetime\"]]}}}]}},\"left\":[{\"type\":\"object\",\"name\":\"LinearAxis\",\"id\":\"p1117\",\"attributes\":{\"ticker\":{\"type\":\"object\",\"name\":\"BasicTicker\",\"id\":\"p1118\",\"attributes\":{\"mantissas\":[1,2,5]}},\"formatter\":{\"type\":\"object\",\"name\":\"BasicTickFormatter\",\"id\":\"p1119\"},\"axis_label\":\"Hours of Sleep\",\"major_label_policy\":{\"type\":\"object\",\"name\":\"AllLabels\",\"id\":\"p1120\"}}}],\"below\":[{\"type\":\"object\",\"name\":\"DatetimeAxis\",\"id\":\"p1100\",\"attributes\":{\"ticker\":{\"type\":\"object\",\"name\":\"DatetimeTicker\",\"id\":\"p1101\",\"attributes\":{\"num_minor_ticks\":5,\"tickers\":[{\"type\":\"object\",\"name\":\"AdaptiveTicker\",\"id\":\"p1102\",\"attributes\":{\"num_minor_ticks\":0,\"mantissas\":[1,2,5],\"max_interval\":500.0}},{\"type\":\"object\",\"name\":\"AdaptiveTicker\",\"id\":\"p1103\",\"attributes\":{\"num_minor_ticks\":0,\"base\":60,\"mantissas\":[1,2,5,10,15,20,30],\"min_interval\":1000.0,\"max_interval\":1800000.0}},{\"type\":\"object\",\"name\":\"AdaptiveTicker\",\"id\":\"p1104\",\"attributes\":{\"num_minor_ticks\":0,\"base\":24,\"mantissas\":[1,2,4,6,8,12],\"min_interval\":3600000.0,\"max_interval\":43200000.0}},{\"type\":\"object\",\"name\":\"DaysTicker\",\"id\":\"p1105\",\"attributes\":{\"days\":[1,2,3,4,5,6,7,8,9,10,11,12,13,14,15,16,17,18,19,20,21,22,23,24,25,26,27,28,29,30,31]}},{\"type\":\"object\",\"name\":\"DaysTicker\",\"id\":\"p1106\",\"attributes\":{\"days\":[1,4,7,10,13,16,19,22,25,28]}},{\"type\":\"object\",\"name\":\"DaysTicker\",\"id\":\"p1107\",\"attributes\":{\"days\":[1,8,15,22]}},{\"type\":\"object\",\"name\":\"DaysTicker\",\"id\":\"p1108\",\"attributes\":{\"days\":[1,15]}},{\"type\":\"object\",\"name\":\"MonthsTicker\",\"id\":\"p1109\",\"attributes\":{\"months\":[0,1,2,3,4,5,6,7,8,9,10,11]}},{\"type\":\"object\",\"name\":\"MonthsTicker\",\"id\":\"p1110\",\"attributes\":{\"months\":[0,2,4,6,8,10]}},{\"type\":\"object\",\"name\":\"MonthsTicker\",\"id\":\"p1111\",\"attributes\":{\"months\":[0,4,8]}},{\"type\":\"object\",\"name\":\"MonthsTicker\",\"id\":\"p1112\",\"attributes\":{\"months\":[0,6]}},{\"type\":\"object\",\"name\":\"YearsTicker\",\"id\":\"p1113\"}]}},\"formatter\":{\"type\":\"object\",\"name\":\"DatetimeTickFormatter\",\"id\":\"p1114\"},\"axis_label\":\"Date\",\"major_label_policy\":{\"type\":\"object\",\"name\":\"AllLabels\",\"id\":\"p1115\"}}}],\"center\":[{\"type\":\"object\",\"name\":\"Grid\",\"id\":\"p1116\",\"attributes\":{\"axis\":{\"id\":\"p1100\"}}},{\"type\":\"object\",\"name\":\"Grid\",\"id\":\"p1121\",\"attributes\":{\"dimension\":1,\"axis\":{\"id\":\"p1117\"}}},{\"type\":\"object\",\"name\":\"Legend\",\"id\":\"p1142\",\"attributes\":{\"items\":[{\"type\":\"object\",\"name\":\"LegendItem\",\"id\":\"p1143\",\"attributes\":{\"label\":{\"type\":\"value\",\"value\":\"Deep Sleep\"},\"renderers\":[{\"id\":\"p1139\"}]}},{\"type\":\"object\",\"name\":\"LegendItem\",\"id\":\"p1153\",\"attributes\":{\"label\":{\"type\":\"value\",\"value\":\"Light Sleep\"},\"renderers\":[{\"id\":\"p1150\"}]}},{\"type\":\"object\",\"name\":\"LegendItem\",\"id\":\"p1163\",\"attributes\":{\"label\":{\"type\":\"value\",\"value\":\"REM Sleep\"},\"renderers\":[{\"id\":\"p1160\"}]}}]}}]}}]}};\n  const render_items = [{\"docid\":\"e522037b-4e6b-44e4-9166-5cdcda809ea7\",\"roots\":{\"p1088\":\"f1622122-0368-4016-8348-5c61b0090755\"},\"root_ids\":[\"p1088\"]}];\n  void root.Bokeh.embed.embed_items_notebook(docs_json, render_items);\n  }\n  if (root.Bokeh !== undefined) {\n    embed_document(root);\n  } else {\n    let attempts = 0;\n    const timer = setInterval(function(root) {\n      if (root.Bokeh !== undefined) {\n        clearInterval(timer);\n        embed_document(root);\n      } else {\n        attempts++;\n        if (attempts > 100) {\n          clearInterval(timer);\n          console.log(\"Bokeh: ERROR: Unable to run BokehJS code because BokehJS library is missing\");\n        }\n      }\n    }, 10, root)\n  }\n})(window);",
      "application/vnd.bokehjs_exec.v0+json": ""
     },
     "metadata": {
      "application/vnd.bokehjs_exec.v0+json": {
       "id": "p1088"
      }
     },
     "output_type": "display_data"
    }
   ],
   "source": [
    "from bokeh.plotting import figure, show, output_notebook\n",
    "from bokeh.models import ColumnDataSource, HoverTool\n",
    "from bokeh.layouts import column\n",
    "import pandas as pd\n",
    "\n",
    "# Ensure the output is in the notebook\n",
    "output_notebook()\n",
    "\n",
    "# Convert 'calendarDate' to datetime if it's not already\n",
    "sleep_df['calendarDate'] = pd.to_datetime(sleep_df['calendarDate'])\n",
    "\n",
    "# Prepare the data source\n",
    "source = ColumnDataSource(data={\n",
    "    'date': sleep_df['calendarDate'],\n",
    "    'deep': sleep_df['deepSleepSeconds'] / 3600,  # Convert seconds to hours\n",
    "    'light': sleep_df['lightSleepSeconds'] / 3600,\n",
    "    'rem': sleep_df['remSleepSeconds'] / 3600\n",
    "})\n",
    "\n",
    "# Create a new plot with a title and axis labels\n",
    "p = figure(title=\"Sleep Data Over Time\", x_axis_label='Date', y_axis_label='Hours of Sleep', x_axis_type='datetime',\n",
    "          width=900, height=600)\n",
    "\n",
    "# Add lines to the plot\n",
    "p.line(x='date', y='deep', line_width=2, color='red', legend_label='Deep Sleep', source=source)\n",
    "p.line(x='date', y='light', line_width=2, color='green', legend_label='Light Sleep', source=source)\n",
    "p.line(x='date', y='rem', line_width=2, color='blue', legend_label='REM Sleep', source=source)\n",
    "\n",
    "# Add hover tool\n",
    "hover = HoverTool()\n",
    "hover.tooltips=[\n",
    "    ('Date', '@date{%F}'),\n",
    "    ('Deep Sleep', '@deep hours'),\n",
    "    ('Light Sleep', '@light hours'),\n",
    "    ('REM Sleep', '@rem hours')\n",
    "]\n",
    "hover.formatters={'@date': 'datetime'}\n",
    "p.add_tools(hover)\n",
    "\n",
    "# Show the result\n",
    "show(p)\n"
   ]
  },
  {
   "cell_type": "markdown",
   "metadata": {},
   "source": [
    "## Data Analysis\n",
    "\n"
   ]
  },
  {
   "cell_type": "markdown",
   "metadata": {},
   "source": [
    "### Describe your data analysis and explain what you've learned about the dataset.\n"
   ]
  },
  {
   "cell_type": "markdown",
   "metadata": {},
   "source": [
    "### If relevant, talk about your machine-learning.\n",
    "not relevant (TO BE DEL)"
   ]
  },
  {
   "cell_type": "markdown",
   "metadata": {},
   "source": [
    "### Genre. Which genre of data story did you use?\n",
    "Our chosen genre would fit the magasin style approach. We have further more expanded this style to fit a more \"Data Dairy\" approach."
   ]
  },
  {
   "cell_type": "markdown",
   "metadata": {},
   "source": [
    "### Which tools did you use from each of the 3 categories of Visual Narrative (Figure 7 in Segal and Heer). Why?\n"
   ]
  },
  {
   "cell_type": "markdown",
   "metadata": {},
   "source": [
    "### Which tools did you use from each of the 3 categories of Narrative Structure (Figure 7 in Segal and Heer). Why?"
   ]
  },
  {
   "cell_type": "markdown",
   "metadata": {},
   "source": [
    "## Visualizations."
   ]
  },
  {
   "cell_type": "markdown",
   "metadata": {},
   "source": [
    "### Explain the visualizations you've chosen.\n"
   ]
  },
  {
   "cell_type": "markdown",
   "metadata": {},
   "source": [
    "### Why are they right for the story you want to tell?"
   ]
  },
  {
   "cell_type": "markdown",
   "metadata": {},
   "source": [
    "## Discussion. \n",
    "Think critically about your creation\n",
    "* What went well?,\n",
    "* What is still missing? What could be improved?, Why?"
   ]
  },
  {
   "cell_type": "markdown",
   "metadata": {},
   "source": [
    "## Contributions. \n",
    "Who did what?\n",
    "* You should write (just briefly) which group member was the main responsible for which elements of the assignment. (I want you guys to understand every part of the assignment, but usually there is someone who took lead role on certain portions of the work. That's what you should explain).\n",
    "* It is not OK simply to write \"All group members contributed equally\"."
   ]
  },
  {
   "cell_type": "markdown",
   "metadata": {},
   "source": [
    "## Make sure that you use references when they're needed and follow academic standards.\n",
    "Handing in the assignment: Simply upload the link to your website via DTU Learn."
   ]
  },
  {
   "cell_type": "markdown",
   "metadata": {},
   "source": [
    "\n",
    "\n",
    ".\n",
    "\n",
    "\n",
    "\n",
    "\n",
    "\n",
    "\n",
    "\n",
    "\n",
    "\n"
   ]
  }
 ],
 "metadata": {
  "kernelspec": {
   "display_name": ".venv",
   "language": "python",
   "name": "python3"
  },
  "language_info": {
   "codemirror_mode": {
    "name": "ipython",
    "version": 3
   },
   "file_extension": ".py",
   "mimetype": "text/x-python",
   "name": "python",
   "nbconvert_exporter": "python",
   "pygments_lexer": "ipython3",
   "version": "3.12.3"
  }
 },
 "nbformat": 4,
 "nbformat_minor": 2
}
